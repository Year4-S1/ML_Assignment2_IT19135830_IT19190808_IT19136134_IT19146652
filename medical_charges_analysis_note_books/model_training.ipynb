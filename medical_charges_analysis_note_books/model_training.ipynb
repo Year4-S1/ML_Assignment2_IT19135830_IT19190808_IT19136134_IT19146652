{
 "cells": [
  {
   "cell_type": "markdown",
   "metadata": {},
   "source": [
    "Import Libraries"
   ]
  },
  {
   "cell_type": "code",
   "execution_count": 240,
   "metadata": {},
   "outputs": [],
   "source": [
    "#import libraries\n",
    "\n",
    "import pandas as pd\n",
    "import numpy as np\n",
    "import seaborn as sns\n",
    "import matplotlib.pyplot as plt\n",
    "import import_ipynb\n",
    "\n",
    "from sklearn.linear_model import LinearRegression\n",
    "from sklearn.model_selection import train_test_split\n",
    "from sklearn.preprocessing import MinMaxScaler\n"
   ]
  },
  {
   "cell_type": "markdown",
   "metadata": {},
   "source": [
    "Import Preprocessed data"
   ]
  },
  {
   "cell_type": "code",
   "execution_count": 241,
   "metadata": {},
   "outputs": [],
   "source": [
    "import data_preprocessing"
   ]
  },
  {
   "cell_type": "markdown",
   "metadata": {},
   "source": [
    "Setting Up"
   ]
  },
  {
   "cell_type": "code",
   "execution_count": 242,
   "metadata": {},
   "outputs": [],
   "source": [
    "dataset = data_preprocessing.df\n",
    "independent_variables = data_preprocessing.independent_variables\n",
    "dependent_variable = data_preprocessing.dependent_variable\n"
   ]
  },
  {
   "cell_type": "markdown",
   "metadata": {},
   "source": [
    "Creating Data of Independent Variables and Dependent Variables"
   ]
  },
  {
   "cell_type": "code",
   "execution_count": 243,
   "metadata": {},
   "outputs": [
    {
     "name": "stdout",
     "output_type": "stream",
     "text": [
      "[[19.   27.9   0.   ...  0.    0.    1.  ]\n",
      " [18.   33.77  1.   ...  0.    1.    0.  ]\n",
      " [28.   33.    3.   ...  0.    1.    0.  ]\n",
      " ...\n",
      " [18.   36.85  0.   ...  0.    1.    0.  ]\n",
      " [21.   25.8   0.   ...  0.    0.    1.  ]\n",
      " [61.   29.07  0.   ...  1.    0.    0.  ]]\n"
     ]
    }
   ],
   "source": [
    "#independent variables data\n",
    "X = dataset[independent_variables].values\n",
    "\n",
    "#dependent variable data\n",
    "y = dataset[dependent_variable].values\n",
    "\n",
    "print(X)"
   ]
  },
  {
   "cell_type": "code",
   "execution_count": 244,
   "metadata": {},
   "outputs": [],
   "source": [
    "#Splitting the dataset \n",
    "#Into Training set and Test set\n",
    "\n",
    "X_train, X_test, y_train,y_test = train_test_split(X,y, test_size = 0.3, random_state = 10)"
   ]
  },
  {
   "cell_type": "code",
   "execution_count": 245,
   "metadata": {},
   "outputs": [],
   "source": [
    "# Step 1: add x0 =1 to dataset\n",
    "X_train_0 = np.c_[np.ones((X_train.shape[0],1)),X_train]\n",
    "X_test_0 = np.c_[np.ones((X_test.shape[0],1)),X_test]\n",
    "\n",
    "# Step2: build model\n",
    "theta = np.matmul(np.linalg.inv( np.matmul(X_train_0.T,X_train_0) ), np.matmul(X_train_0.T,y_train)) "
   ]
  },
  {
   "cell_type": "code",
   "execution_count": 246,
   "metadata": {},
   "outputs": [],
   "source": [
    "parameter = ['theta_'+str(i) for i in range(X_train_0.shape[1])]\n",
    "columns = ['intersect:x_0=1'] + list(independent_variables)\n",
    "parameter_df = pd.DataFrame({'Paramater':parameter, 'Columns': columns, 'theta':theta})\n",
    "\n"
   ]
  },
  {
   "cell_type": "code",
   "execution_count": 247,
   "metadata": {},
   "outputs": [
    {
     "data": {
      "text/html": [
       "<div>\n",
       "<style scoped>\n",
       "    .dataframe tbody tr th:only-of-type {\n",
       "        vertical-align: middle;\n",
       "    }\n",
       "\n",
       "    .dataframe tbody tr th {\n",
       "        vertical-align: top;\n",
       "    }\n",
       "\n",
       "    .dataframe thead th {\n",
       "        text-align: right;\n",
       "    }\n",
       "</style>\n",
       "<table border=\"1\" class=\"dataframe\">\n",
       "  <thead>\n",
       "    <tr style=\"text-align: right;\">\n",
       "      <th></th>\n",
       "      <th>Paramater</th>\n",
       "      <th>Columns</th>\n",
       "      <th>theta</th>\n",
       "      <th>Sklearn_theta</th>\n",
       "    </tr>\n",
       "  </thead>\n",
       "  <tbody>\n",
       "    <tr>\n",
       "      <th>0</th>\n",
       "      <td>theta_0</td>\n",
       "      <td>intersect:x_0=1</td>\n",
       "      <td>8.000000</td>\n",
       "      <td>6.885900</td>\n",
       "    </tr>\n",
       "    <tr>\n",
       "      <th>1</th>\n",
       "      <td>theta_1</td>\n",
       "      <td>age</td>\n",
       "      <td>0.025006</td>\n",
       "      <td>0.035201</td>\n",
       "    </tr>\n",
       "    <tr>\n",
       "      <th>2</th>\n",
       "      <td>theta_2</td>\n",
       "      <td>bmi</td>\n",
       "      <td>-0.064343</td>\n",
       "      <td>0.011956</td>\n",
       "    </tr>\n",
       "    <tr>\n",
       "      <th>3</th>\n",
       "      <td>theta_3</td>\n",
       "      <td>children</td>\n",
       "      <td>0.099748</td>\n",
       "      <td>0.099508</td>\n",
       "    </tr>\n",
       "    <tr>\n",
       "      <th>4</th>\n",
       "      <td>theta_4</td>\n",
       "      <td>Gender</td>\n",
       "      <td>-0.423770</td>\n",
       "      <td>0.069825</td>\n",
       "    </tr>\n",
       "    <tr>\n",
       "      <th>5</th>\n",
       "      <td>theta_5</td>\n",
       "      <td>Smoker</td>\n",
       "      <td>1.277518</td>\n",
       "      <td>1.574352</td>\n",
       "    </tr>\n",
       "    <tr>\n",
       "      <th>6</th>\n",
       "      <td>theta_6</td>\n",
       "      <td>Northeast</td>\n",
       "      <td>-8.000000</td>\n",
       "      <td>0.071313</td>\n",
       "    </tr>\n",
       "    <tr>\n",
       "      <th>7</th>\n",
       "      <td>theta_7</td>\n",
       "      <td>Northwest</td>\n",
       "      <td>-8.000000</td>\n",
       "      <td>0.026721</td>\n",
       "    </tr>\n",
       "    <tr>\n",
       "      <th>8</th>\n",
       "      <td>theta_8</td>\n",
       "      <td>Southeast</td>\n",
       "      <td>8.000000</td>\n",
       "      <td>-0.053432</td>\n",
       "    </tr>\n",
       "    <tr>\n",
       "      <th>9</th>\n",
       "      <td>theta_9</td>\n",
       "      <td>Southwest</td>\n",
       "      <td>8.000000</td>\n",
       "      <td>-0.044602</td>\n",
       "    </tr>\n",
       "  </tbody>\n",
       "</table>\n",
       "</div>"
      ],
      "text/plain": [
       "  Paramater          Columns     theta  Sklearn_theta\n",
       "0   theta_0  intersect:x_0=1  8.000000       6.885900\n",
       "1   theta_1              age  0.025006       0.035201\n",
       "2   theta_2              bmi -0.064343       0.011956\n",
       "3   theta_3         children  0.099748       0.099508\n",
       "4   theta_4           Gender -0.423770       0.069825\n",
       "5   theta_5           Smoker  1.277518       1.574352\n",
       "6   theta_6        Northeast -8.000000       0.071313\n",
       "7   theta_7        Northwest -8.000000       0.026721\n",
       "8   theta_8        Southeast  8.000000      -0.053432\n",
       "9   theta_9        Southwest  8.000000      -0.044602"
      ]
     },
     "execution_count": 247,
     "metadata": {},
     "output_type": "execute_result"
    }
   ],
   "source": [
    "from sklearn.linear_model import LinearRegression\n",
    "lin_reg = LinearRegression()\n",
    "lin_reg.fit(X_train,y_train) # Note: x_0 =1 is no need to add, sklearn will take care of it.\n",
    "\n",
    "#Parameter\n",
    "sk_theta = [lin_reg.intercept_]+list(lin_reg.coef_)\n",
    "parameter_df = parameter_df.join(pd.Series(sk_theta, name='Sklearn_theta'))\n",
    "parameter_df"
   ]
  },
  {
   "cell_type": "markdown",
   "metadata": {},
   "source": [
    "Applying the the learning algorithm (Multiple Linear Regression) to the training set"
   ]
  }
 ],
 "metadata": {
  "interpreter": {
   "hash": "df95319d8ce4e1d89f5365ae10992bc1f65da593082b1d264e8f529830ec2f02"
  },
  "kernelspec": {
   "display_name": "Python 3.10.3 64-bit",
   "language": "python",
   "name": "python3"
  },
  "language_info": {
   "codemirror_mode": {
    "name": "ipython",
    "version": 3
   },
   "file_extension": ".py",
   "mimetype": "text/x-python",
   "name": "python",
   "nbconvert_exporter": "python",
   "pygments_lexer": "ipython3",
   "version": "3.10.3"
  },
  "orig_nbformat": 4
 },
 "nbformat": 4,
 "nbformat_minor": 2
}
