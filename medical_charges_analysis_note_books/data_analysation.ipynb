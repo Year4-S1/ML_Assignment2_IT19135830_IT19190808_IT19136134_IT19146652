{
 "cells": [
  {
   "cell_type": "code",
   "execution_count": null,
   "metadata": {},
   "outputs": [],
   "source": [
    "# importing the libraries\n",
    "import numpy as np\n",
    "import pandas as pd\n",
    "\n",
    "import matplotlib.pyplot as plt\n",
    "import seaborn as sns\n",
    "\n"
   ]
  },
  {
   "cell_type": "code",
   "execution_count": null,
   "metadata": {},
   "outputs": [],
   "source": [
    "url='https://drive.google.com/file/d/1HGbQtdf9vcmmPRAonnRAfMgA2lZVsFn-/view?usp=sharing'\n",
    "url='https://drive.google.com/uc?id=' + url.split('/')[-2]\n",
    "dataset = pd.read_csv(url)\n",
    "print(dataset)"
   ]
  },
  {
   "cell_type": "code",
   "execution_count": null,
   "metadata": {},
   "outputs": [],
   "source": [
    "# getting the legth of the dataset\n",
    "len(dataset)"
   ]
  },
  {
   "cell_type": "code",
   "execution_count": null,
   "metadata": {},
   "outputs": [],
   "source": [
    "dataset.info()"
   ]
  },
  {
   "cell_type": "code",
   "execution_count": null,
   "metadata": {},
   "outputs": [],
   "source": [
    "dataset.head()"
   ]
  },
  {
   "cell_type": "code",
   "execution_count": null,
   "metadata": {},
   "outputs": [],
   "source": [
    "# getting the rows and column count\n",
    "dataset.shape"
   ]
  },
  {
   "cell_type": "code",
   "execution_count": null,
   "metadata": {},
   "outputs": [],
   "source": [
    "dataset.describe()"
   ]
  },
  {
   "cell_type": "code",
   "execution_count": null,
   "metadata": {},
   "outputs": [],
   "source": [
    "# checking if there are missing values in dataset\n",
    "plt.figure(figsize=(12,4))\n",
    "sns.heatmap(dataset.isnull(),cbar=False,cmap='viridis',yticklabels=False)\n",
    "plt.title('Missing value in the dataset');"
   ]
  },
  {
   "cell_type": "code",
   "execution_count": null,
   "metadata": {},
   "outputs": [],
   "source": [
    "# finding the correlation of hospital charges with BMI\n",
    "# plt.scatter(dataset['bmi'], dataset['charges'], alpha=0.5)\n",
    "plt.style.use('seaborn-whitegrid')\n",
    "sns.lmplot(x='bmi',y='charges',data=dataset,aspect=2,height=6)\n",
    "plt.title('Scatter plot of Charges Vs BMI')\n",
    "plt.xlabel(\"BMI\")\n",
    "plt.ylabel(\"Charges\")\n",
    "\n",
    "plt.show()"
   ]
  },
  {
   "cell_type": "code",
   "execution_count": null,
   "metadata": {},
   "outputs": [],
   "source": [
    "# finding the correlation of hospital charges with Age\n",
    "# plt.scatter(dataset['age'], dataset['charges'], alpha=0.5)\n",
    "plt.style.use('seaborn-whitegrid')\n",
    "sns.lmplot(x='age',y='charges',data=dataset,aspect=2,height=6)\n",
    "plt.title('Scatter plot of Charges Vs Age')\n",
    "plt.xlabel(\"Age\")\n",
    "plt.ylabel(\"Charges\")\n",
    "plt.show()"
   ]
  },
  {
   "cell_type": "code",
   "execution_count": null,
   "metadata": {},
   "outputs": [],
   "source": [
    "ax = dataset.groupby(['sex'])['charges'].mean().plot.bar(\n",
    "    figsize = (10,5),\n",
    "    fontsize = 14\n",
    ")\n",
    "ax.set_title(\"Average charges Vs sex\", fontsize = 20)\n",
    "\n",
    "ax.set_xlabel(\"sex\", fontsize = 15)\n",
    "ax.set_ylabel(\"charges\", fontsize = 15)"
   ]
  },
  {
   "cell_type": "code",
   "execution_count": null,
   "metadata": {},
   "outputs": [],
   "source": [
    "dataset.sex.value_counts()"
   ]
  },
  {
   "cell_type": "code",
   "execution_count": null,
   "metadata": {},
   "outputs": [],
   "source": [
    "ax = dataset.groupby(['children'])['charges'].mean().plot.bar(\n",
    "    figsize = (10,5),\n",
    "    fontsize = 14\n",
    ")\n",
    "ax.set_title(\"Average charges Vs children\", fontsize = 20)\n",
    "\n",
    "ax.set_xlabel(\"children\", fontsize = 15)\n",
    "ax.set_ylabel(\"charges\", fontsize = 15)"
   ]
  },
  {
   "cell_type": "code",
   "execution_count": null,
   "metadata": {},
   "outputs": [],
   "source": [
    "ax = dataset.groupby(['smoker'])['charges'].mean().plot.bar(\n",
    "    figsize = (10,5),\n",
    "    fontsize = 14\n",
    ")\n",
    "ax.set_title(\"Average charges Vs smoker\", fontsize = 20)\n",
    "\n",
    "ax.set_xlabel(\"smoker\", fontsize = 15)\n",
    "ax.set_ylabel(\"charges\", fontsize = 15)"
   ]
  },
  {
   "cell_type": "code",
   "execution_count": null,
   "metadata": {},
   "outputs": [],
   "source": [
    "f = plt.figure(figsize=(14,6))\n",
    "ax = f.add_subplot(122)\n",
    "sns.violinplot(x='smoker', y='charges',data=dataset,palette='magma',ax=ax)\n",
    "ax.set_title('Violin plot of Charges vs smoker')"
   ]
  },
  {
   "cell_type": "code",
   "execution_count": null,
   "metadata": {},
   "outputs": [],
   "source": [
    "ax = dataset.groupby(['region'])['charges'].mean().plot.bar(\n",
    "    figsize = (10,5),\n",
    "    fontsize = 14\n",
    ")\n",
    "ax.set_title(\"Average charges Vs region\", fontsize = 20)\n",
    "\n",
    "ax.set_xlabel(\"region\", fontsize = 15)\n",
    "ax.set_ylabel(\"charges\", fontsize = 15)"
   ]
  },
  {
   "cell_type": "code",
   "execution_count": null,
   "metadata": {},
   "outputs": [],
   "source": [
    "# checking for correlation\n",
    "plt.figure(figsize=(10,8))\n",
    "cor = dataset.corr()\n",
    "sns.heatmap(cor, annot=True, cmap=plt.cm.Reds)\n",
    "plt.show()"
   ]
  },
  {
   "cell_type": "code",
   "execution_count": null,
   "metadata": {},
   "outputs": [],
   "source": [
    "corr_charges=cor['charges'].sort_values(ascending=False)\n",
    "print(corr_charges)"
   ]
  }
 ],
 "metadata": {
  "interpreter": {
   "hash": "263930470851f494f0ed2879c35b57985588df20f9e529b86e97dd5eb9ddc466"
  },
  "kernelspec": {
   "display_name": "Python 3.9.7 ('base')",
   "language": "python",
   "name": "python3"
  },
  "language_info": {
   "codemirror_mode": {
    "name": "ipython",
    "version": 3
   },
   "file_extension": ".py",
   "mimetype": "text/x-python",
   "name": "python",
   "nbconvert_exporter": "python",
   "pygments_lexer": "ipython3",
   "version": "3.9.7"
  }
 },
 "nbformat": 4,
 "nbformat_minor": 2
}
